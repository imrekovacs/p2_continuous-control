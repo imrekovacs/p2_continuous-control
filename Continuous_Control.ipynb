{
 "cells": [
  {
   "cell_type": "markdown",
   "metadata": {},
   "source": [
    "\n",
    "\n",
    "\n",
    "\n",
    "\n",
    "\n",
    "# Continuous Control\n",
    "\n",
    "---\n",
    "\n",
    "In this notebook, you will learn how to use the Unity ML-Agents environment for the second project of the [Deep Reinforcement Learning Nanodegree](https://www.udacity.com/course/deep-reinforcement-learning-nanodegree--nd893) program.\n",
    "\n",
    "### 1. Start the Environment\n",
    "\n",
    "We begin by importing the necessary packages.  If the code cell below returns an error, please revisit the project instructions to double-check that you have installed [Unity ML-Agents](https://github.com/Unity-Technologies/ml-agents/blob/master/docs/Installation.md) and [NumPy](http://www.numpy.org/)."
   ]
  },
  {
   "cell_type": "code",
   "execution_count": 1,
   "metadata": {},
   "outputs": [],
   "source": [
    "from unityagents import UnityEnvironment\n",
    "import numpy as np"
   ]
  },
  {
   "cell_type": "markdown",
   "metadata": {},
   "source": [
    "Next, we will start the environment!  **_Before running the code cell below_**, change the `file_name` parameter to match the location of the Unity environment that you downloaded.\n",
    "\n",
    "- **Mac**: `\"path/to/Reacher.app\"`\n",
    "- **Windows** (x86): `\"path/to/Reacher_Windows_x86/Reacher.exe\"`\n",
    "- **Windows** (x86_64): `\"path/to/Reacher_Windows_x86_64/Reacher.exe\"`\n",
    "- **Linux** (x86): `\"path/to/Reacher_Linux/Reacher.x86\"`\n",
    "- **Linux** (x86_64): `\"path/to/Reacher_Linux/Reacher.x86_64\"`\n",
    "- **Linux** (x86, headless): `\"path/to/Reacher_Linux_NoVis/Reacher.x86\"`\n",
    "- **Linux** (x86_64, headless): `\"path/to/Reacher_Linux_NoVis/Reacher.x86_64\"`\n",
    "\n",
    "For instance, if you are using a Mac, then you downloaded `Reacher.app`.  If this file is in the same folder as the notebook, then the line below should appear as follows:\n",
    "```\n",
    "env = UnityEnvironment(file_name=\"Reacher.app\")\n",
    "```"
   ]
  },
  {
   "cell_type": "code",
   "execution_count": 2,
   "metadata": {},
   "outputs": [
    {
     "name": "stderr",
     "output_type": "stream",
     "text": [
      "INFO:unityagents:\n",
      "'Academy' started successfully!\n",
      "Unity Academy name: Academy\n",
      "        Number of Brains: 1\n",
      "        Number of External Brains : 1\n",
      "        Lesson number : 0\n",
      "        Reset Parameters :\n",
      "\t\tgoal_speed -> 1.0\n",
      "\t\tgoal_size -> 5.0\n",
      "Unity brain name: ReacherBrain\n",
      "        Number of Visual Observations (per agent): 0\n",
      "        Vector Observation space type: continuous\n",
      "        Vector Observation space size (per agent): 33\n",
      "        Number of stacked Vector Observation: 1\n",
      "        Vector Action space type: continuous\n",
      "        Vector Action space size (per agent): 4\n",
      "        Vector Action descriptions: , , , \n"
     ]
    }
   ],
   "source": [
    "env = UnityEnvironment(file_name='Reacher_Linux_NoVis/Reacher.x86_64')"
   ]
  },
  {
   "cell_type": "markdown",
   "metadata": {},
   "source": [
    "Environments contain **_brains_** which are responsible for deciding the actions of their associated agents. Here we check for the first brain available, and set it as the default brain we will be controlling from Python."
   ]
  },
  {
   "cell_type": "code",
   "execution_count": 3,
   "metadata": {},
   "outputs": [],
   "source": [
    "# get the default brain\n",
    "brain_name = env.brain_names[0]\n",
    "brain = env.brains[brain_name]"
   ]
  },
  {
   "cell_type": "markdown",
   "metadata": {},
   "source": [
    "### 2. Examine the State and Action Spaces\n",
    "\n",
    "In this environment, a double-jointed arm can move to target locations. A reward of `+0.1` is provided for each step that the agent's hand is in the goal location. Thus, the goal of your agent is to maintain its position at the target location for as many time steps as possible.\n",
    "\n",
    "The observation space consists of `33` variables corresponding to position, rotation, velocity, and angular velocities of the arm.  Each action is a vector with four numbers, corresponding to torque applicable to two joints.  Every entry in the action vector must be a number between `-1` and `1`.\n",
    "\n",
    "Run the code cell below to print some information about the environment."
   ]
  },
  {
   "cell_type": "code",
   "execution_count": 4,
   "metadata": {},
   "outputs": [
    {
     "name": "stdout",
     "output_type": "stream",
     "text": [
      "Number of agents: 20\n",
      "Size of each action: 4\n",
      "There are 20 agents. Each observes a state with length: 33\n",
      "The state for the first agent looks like: [ 0.00000000e+00 -4.00000000e+00  0.00000000e+00  1.00000000e+00\n",
      " -0.00000000e+00 -0.00000000e+00 -4.37113883e-08  0.00000000e+00\n",
      "  0.00000000e+00  0.00000000e+00  0.00000000e+00  0.00000000e+00\n",
      "  0.00000000e+00  0.00000000e+00 -1.00000000e+01  0.00000000e+00\n",
      "  1.00000000e+00 -0.00000000e+00 -0.00000000e+00 -4.37113883e-08\n",
      "  0.00000000e+00  0.00000000e+00  0.00000000e+00  0.00000000e+00\n",
      "  0.00000000e+00  0.00000000e+00  5.75471878e+00 -1.00000000e+00\n",
      "  5.55726624e+00  0.00000000e+00  1.00000000e+00  0.00000000e+00\n",
      " -1.68164849e-01]\n"
     ]
    }
   ],
   "source": [
    "# reset the environment\n",
    "env_info = env.reset(train_mode=True)[brain_name]\n",
    "\n",
    "# number of agents\n",
    "num_agents = len(env_info.agents)\n",
    "print('Number of agents:', num_agents)\n",
    "\n",
    "# size of each action\n",
    "action_size = brain.vector_action_space_size\n",
    "print('Size of each action:', action_size)\n",
    "\n",
    "# examine the state space \n",
    "states = env_info.vector_observations\n",
    "state_size = states.shape[1]\n",
    "print('There are {} agents. Each observes a state with length: {}'.format(states.shape[0], state_size))\n",
    "print('The state for the first agent looks like:', states[0])"
   ]
  },
  {
   "cell_type": "markdown",
   "metadata": {},
   "source": [
    "### 3. Take Random Actions in the Environment\n",
    "\n",
    "In the next code cell, you will learn how to use the Python API to control the agent and receive feedback from the environment.\n",
    "\n",
    "Once this cell is executed, you will watch the agent's performance, if it selects an action at random with each time step.  A window should pop up that allows you to observe the agent, as it moves through the environment.  \n",
    "\n",
    "Of course, as part of the project, you'll have to change the code so that the agent is able to use its experience to gradually choose better actions when interacting with the environment!"
   ]
  },
  {
   "cell_type": "code",
   "execution_count": 5,
   "metadata": {},
   "outputs": [
    {
     "name": "stdout",
     "output_type": "stream",
     "text": [
      "Total score (averaged over agents) this episode: 0.0\n"
     ]
    }
   ],
   "source": [
    "env_info = env.reset(train_mode=False)[brain_name]     # reset the environment    \n",
    "states = env_info.vector_observations                  # get the current state (for each agent)\n",
    "scores = np.zeros(num_agents)                          # initialize the score (for each agent)\n",
    "#while True: \n",
    "# For untrained, a while True loop runs an eternity...\n",
    "for j in range(1):\n",
    "    actions = np.random.randn(num_agents, action_size) # select an action (for each agent)\n",
    "    actions = np.clip(actions, -1, 1)                  # all actions between -1 and 1\n",
    "    env_info = env.step(actions)[brain_name]           # send all actions to tne environment\n",
    "    next_states = env_info.vector_observations         # get next state (for each agent)\n",
    "    rewards = env_info.rewards                         # get reward (for each agent)\n",
    "    dones = env_info.local_done                        # see if episode finished\n",
    "    scores += env_info.rewards                         # update the score (for each agent)\n",
    "    states = next_states                               # roll over states to next time step\n",
    "    if np.any(dones):                                  # exit loop if episode finished\n",
    "        break\n",
    "print('Total score (averaged over agents) this episode: {}'.format(np.mean(scores)))"
   ]
  },
  {
   "cell_type": "markdown",
   "metadata": {},
   "source": [
    "When finished, you can close the environment."
   ]
  },
  {
   "cell_type": "code",
   "execution_count": 6,
   "metadata": {},
   "outputs": [],
   "source": [
    "#env.close()"
   ]
  },
  {
   "cell_type": "markdown",
   "metadata": {},
   "source": [
    "### 4. It's Your Turn!\n",
    "\n",
    "Now it's your turn to train your own agent to solve the environment!  When training the environment, set `train_mode=True`, so that the line for resetting the environment looks like the following:\n",
    "```python\n",
    "env_info = env.reset(train_mode=True)[brain_name]\n",
    "```"
   ]
  },
  {
   "cell_type": "code",
   "execution_count": 7,
   "metadata": {},
   "outputs": [],
   "source": [
    "from ddpg_agent import Agent\n",
    "from collections import deque\n",
    "import matplotlib.pyplot as plt\n",
    "%matplotlib inline"
   ]
  },
  {
   "cell_type": "code",
   "execution_count": 8,
   "metadata": {},
   "outputs": [
    {
     "data": {
      "text/plain": [
       "device(type='cpu')"
      ]
     },
     "execution_count": 8,
     "metadata": {},
     "output_type": "execute_result"
    }
   ],
   "source": [
    "import torch\n",
    "device = torch.device(\"cuda:0\" if torch.cuda.is_available() else \"cpu\")\n",
    "device "
   ]
  },
  {
   "cell_type": "code",
   "execution_count": 9,
   "metadata": {},
   "outputs": [],
   "source": [
    "env_info = env.reset(train_mode=True)[brain_name]\n",
    "agent = Agent(state_size=state_size, action_size=action_size, num_agents=num_agents, random_seed=2)"
   ]
  },
  {
   "cell_type": "code",
   "execution_count": 10,
   "metadata": {},
   "outputs": [],
   "source": [
    "def dqn(n_episodes=1000, max_t=1000, window_size=100, scores_threshold=30, print_every=10):\n",
    "    \"\"\"Runs Deep Q-Learning \n",
    "    \n",
    "    Params\n",
    "    ======\n",
    "        n_episodes (int): maximum number of training episodes\n",
    "        max_t (int): maximum number of timesteps per episode\n",
    "        scores_threshold (int): set the threshold for average scores to stop training\n",
    "        print_every (int): print new line with scores every print_every episode.\n",
    "    \"\"\"\n",
    "    scores = []                        # scores from each episode will be stored here\n",
    "    scores_deque = deque(maxlen=window_size) \n",
    "    \n",
    "    for i_episode in range(1, n_episodes+1):\n",
    "        env_info = env.reset(train_mode=True)[brain_name]\n",
    "        states = env_info.vector_observations\n",
    "        score = np.zeros(num_agents)\n",
    "        agent.reset()    \n",
    "        for t in range(max_t):\n",
    "            #Environment interaction block:\n",
    "            actions = agent.act(states)\n",
    "            env_info = env.step(actions)[brain_name]        \n",
    "            next_states = env_info.vector_observations   \n",
    "            rewards = env_info.rewards                   \n",
    "            dones = env_info.local_done        \n",
    "            agent.step(states, actions, rewards, next_states, dones)\n",
    "            states = next_states\n",
    "            score += rewards\n",
    "            if np.any(dones):\n",
    "                break \n",
    "                \n",
    "        scores_deque.append(np.mean(score))\n",
    "        scores.append(np.mean(score))\n",
    "        \n",
    "        average_score = np.mean(scores_deque)\n",
    "\n",
    "        print('\\rEpisode: {}\\tAverage Score: {:.2f}\\tEpi Mean Score: {:.2f}\\tEpi Min Score: {:.2f}\\tEpi Max Score: {:.2f}'.format(i_episode, average_score, np.mean(score), min(score), max(score)), end=\"\")\n",
    "        if i_episode % print_every == 0:\n",
    "            print('\\rEpisode: {}\\tAverage Score: {:.2f}\\tEpi Mean Score: {:.2f}\\tEpi Min Score: {:.2f}\\tEpi Max Score: {:.2f}'.format(i_episode, average_score, np.mean(score), min(score), max(score)))\n",
    "\n",
    "        if average_score >= scores_threshold:\n",
    "            print('\\nEnvironment solved in {} episodes!\\tAverage Score: {:.2f}'.format(i_episode, average_score))\n",
    "            torch.save(agent.actor_local.state_dict(), 'checkpoint_actor.pth')\n",
    "            torch.save(agent.critic_local.state_dict(), 'checkpoint_critic.pth')\n",
    "            break\n",
    "\n",
    "    return scores"
   ]
  },
  {
   "cell_type": "code",
   "execution_count": 11,
   "metadata": {},
   "outputs": [
    {
     "name": "stdout",
     "output_type": "stream",
     "text": [
      "Episode: 10\tAverage Score: 0.97\tEpi Mean Score: 1.64\tEpi Min Score: 0.52\tEpi Max Score: 3.51\n",
      "Episode: 20\tAverage Score: 2.02\tEpi Mean Score: 5.92\tEpi Min Score: 0.69\tEpi Max Score: 14.46\n",
      "Episode: 30\tAverage Score: 3.76\tEpi Mean Score: 8.75\tEpi Min Score: 1.96\tEpi Max Score: 23.61\n",
      "Episode: 40\tAverage Score: 5.83\tEpi Mean Score: 13.57\tEpi Min Score: 6.19\tEpi Max Score: 27.31\n",
      "Episode: 50\tAverage Score: 8.17\tEpi Mean Score: 22.58\tEpi Min Score: 18.63\tEpi Max Score: 30.51\n",
      "Episode: 60\tAverage Score: 10.94\tEpi Mean Score: 28.84\tEpi Min Score: 20.06\tEpi Max Score: 36.45\n",
      "Episode: 70\tAverage Score: 12.90\tEpi Mean Score: 25.34\tEpi Min Score: 12.20\tEpi Max Score: 34.12\n",
      "Episode: 80\tAverage Score: 15.08\tEpi Mean Score: 31.59\tEpi Min Score: 16.55\tEpi Max Score: 39.10\n",
      "Episode: 90\tAverage Score: 16.26\tEpi Mean Score: 28.85\tEpi Min Score: 22.22\tEpi Max Score: 35.55\n",
      "Episode: 100\tAverage Score: 17.87\tEpi Mean Score: 32.12\tEpi Min Score: 19.64\tEpi Max Score: 37.48\n",
      "Episode: 110\tAverage Score: 21.26\tEpi Mean Score: 33.64\tEpi Min Score: 9.15\tEpi Max Score: 38.708\n",
      "Episode: 120\tAverage Score: 24.33\tEpi Mean Score: 34.75\tEpi Min Score: 28.16\tEpi Max Score: 38.46\n",
      "Episode: 130\tAverage Score: 26.96\tEpi Mean Score: 34.31\tEpi Min Score: 26.19\tEpi Max Score: 39.18\n",
      "Episode: 140\tAverage Score: 28.84\tEpi Mean Score: 31.91\tEpi Min Score: 17.24\tEpi Max Score: 37.46\n",
      "Episode: 147\tAverage Score: 30.09\tEpi Mean Score: 34.02\tEpi Min Score: 26.04\tEpi Max Score: 39.63\n",
      "Environment solved in 147 episodes!\tAverage Score: 30.09\n"
     ]
    }
   ],
   "source": [
    "#Train my agent\n",
    "scores = dqn()"
   ]
  },
  {
   "cell_type": "code",
   "execution_count": 12,
   "metadata": {},
   "outputs": [
    {
     "data": {
      "image/png": "[encoded data removed]",
      "text/plain": [
       "<Figure size 432x288 with 1 Axes>"
      ]
     },
     "metadata": {
      "needs_background": "light"
     },
     "output_type": "display_data"
    }
   ],
   "source": [
    "fig = plt.figure()\n",
    "ax = fig.add_subplot(111)\n",
    "plt.plot(np.arange(1, len(scores)+1), scores)\n",
    "plt.ylabel('Score')\n",
    "plt.xlabel('Episode #')\n",
    "plt.show()"
   ]
  },
  {
   "cell_type": "code",
   "execution_count": 13,
   "metadata": {},
   "outputs": [],
   "source": [
    "env.close()"
   ]
  },
  {
   "cell_type": "markdown",
   "metadata": {},
   "source": [
    "## 5. Design Considerations and Improvement Ideas\n",
    "\n",
    "### Architecture\n",
    "The Deep DPG with an actor-critic architecture was chosen to solve this continuous control problem[10]. \n",
    "\n",
    "### Hyperparameter Selection\n",
    "#### Current Implementation\n",
    "\n",
    "##### Learning Rates\n",
    "The learning rates for critic and actor were set to 1e-4. With reduction of the network capacity (see sub-section below), the learning rates were increased to 1e-3 (Actor) and 1e-3 (Critic). The agents scores were oscillating, and it took 307 episodes to reach a score moving average of 30, as the agents periodically yielded very low mean episode scores, typically combined with a huge variance with a very low minimum episode score. For stability reason, the learning rates must be chosen well and may be non-equal. The critic's learning rate was then reduced to 3e-4, which indeed improved learning and stability, the score moving average was reached after 157 episodes, thus reducing  learning rate of the critic accelerated the agents learning. Reducing also actors learning LR_ACTOR to 3e-4 reduced the learning speed, reaching the goal after 263 episodes. With both LR_ACTOR and LR_CRITIC set to 3e-4, the agents got rewarded with higher minimum and maximum scores, also less oscillation was observed. The periodic collapsing of the scores were much less severe and the variation also seemed to decrease.\n",
    "\n",
    "\n",
    "##### Batch Size\n",
    "Deep Reinforcement Learning does allow higher batch sizes than supervised machine learning, like image classification. Higher batch sizes help to increase the learning of the agents, according to Stooke[8]. This was checked by increasing batch size from 128 to 256. The goal of a score moving average of 30 was reached after 263 episodes, but it took only 147 episodes having a batch size. Increasing the batch size indefinitely does not make sense either, hence there must be an optimimum. Stooke found the rule of thumb having a relation between learning rate and batch size: for the A2C increasing the learning rate with the square root of the batch size worked best. \n",
    "\n",
    "##### Weight Decay\n",
    "The weigth decay should lead to improved learning when having batch normalization. As no batch normalization is implemented, also weigth decay was set to zero[4]. \n",
    "\n",
    "#### Further  improvement\n",
    "The variance is still significant and the agents scores are still oscillating, see scores-plot. This could probably be further improved by adapting the learning rates and the batch size. \n",
    "\n",
    "\n",
    "### Network Capacity \n",
    "#### Current Implementation\n",
    "At the beginning, the actor and the critic were implemented having a bigger network capacity. The first implementations had a three stage neural network for both, actor and critic as well. The first fully-connected (fc1) had size of 512, the second fc2 had 256, and the third fc3 was 128. The training was very time consumining, 200-300 Episodes required 8-10 hours of training on a Intel Core i7 (9th generation) without GPU-support with the Hyper-V Virtual Machine running Ubuntu 18.04LTS and on a Intel Core i7 (9th generation) without GPU-support with Windows Subsystems for Linux (WSL) running  running Ubuntu 18.04LTS. The agents were very unstable, maybe a batch normalization could have improved here, but was not tried. Instead, the network capacities were successively reduced. Later on, the third stage was removed. This helped to stabilize, but also the improve learning. The current implementation is trained within less than hour.\n",
    "\n",
    "#### Further  improvement\n",
    "Probably, the neural network capacity could be reduced even further without compromising the average score and improving training speed. This is not investigated further.\n",
    "\n",
    "\n",
    "### Activation Functions\n",
    "#### Current Implementation\n",
    "As a first step, the model was implemented using standard ReLu-activation functions. The learning rate was very poor, using LeakyReLu as activation function instead of ReLu may improve learning.[1]\n",
    "In this project, using LeakyReLu helped to significantly improve the learning of the agents. The agents were simulated three times each\n",
    "- The Leaky-ReLu Agents did reach a moving average of min. 30 after 156 episodes\n",
    "- The ReLu-Agents required 207 episodes, almost 30% more episodes to get same average score\n",
    "\n",
    "The critic was also improved by adding a nonlinear activation to its output: \n",
    "A tanh-activation function was added to the output of the critic, further improving training speed.\n",
    "\n",
    "#### Further  improvement\n",
    "Wu et al [6] is suggesting to evaluate other output activation functions, i.e. replacing tanh()-function with a ReLu, LeakyReLu or with a Exponential Linear Unit (ELU), since sigmoids and tanh functions are limiting the output and hence the score.\n",
    "\n",
    "\n",
    "### Experience Replay Algorithm\n",
    "#### Current Implementation\n",
    "The implemented agent does have a experience replay algorithm:\n",
    "The Replay Buffer is used for experience replay to improve learning by learning, remembering and re-experiencing the past. \n",
    "In order to break temporal correlations, the experience replay is done by quasi-random and uniform sampling.  It also reduces the number of required experiences.[2]\n",
    "\n",
    "#### Further  improvement\n",
    "The experience replay algorithm was then improved by learning important experiences more often, thus prioritized and the experiences are not uniformly sampled and replayed anymore. It makes of the idea the same state-action pairs or tranisitions are more valuable in yielding higher rewards/scores and measured als Temporal-Difference error than others. \n",
    "So the neural network should be trained more with the better transitions[5], [9]. \n",
    "\n",
    "\n",
    "### Reproducibility and Seeding\n",
    "#### Current Implementation\n",
    "The scores and reproducibility of the trained agents depend heavily on the seed-value used as a training input. Reproducibility is a big issue in deep reinforcement learning and is subject intense of research. The dependency on the seeding value is a explainable as follows: the depending on the starting conditions (weight initialization and the random seed value) leads to different solutions. The neural network with the chosen cost function and optimizer could land in a local optimum and therefore could not improve scores anymore. Think of a human with the seed value being the earth coordinate, and his task is to find sweet/drinking water: One human is landing in a huge desert and may find a oasis with very limited water reserves. Another human would start somewhere in the northern hemisphere. He then would most probably find a creek providing virtual endless amount of fresh and clean drinking water.\n",
    "\n",
    "#### Further  improvement\n",
    "Reproducibility and dependency on seeding can be improved by improving the weight initialization and the by applying batch normalization. [3]\n",
    "\n",
    "\n",
    "### Weight Initialization\n",
    "#### Current Implementation\n",
    "The implemented networks are initialized with uniformly distributed values by using the function self.weight.data.uniform_(-stdv, stdv), with stdv=3e-3.\n",
    "\n",
    "\n",
    "#### Further  improvement\n",
    "The neural net weight initialization is crucial for convergence and training speed. There are a lot of research studies on this topic. A more recent way to initialize the weights is named after his inventor Kaiming. Sometimes it also called Xavier-initialization. \n",
    "\n",
    "T.Salimans[7] applied weight normalization to their DQN-agent and demonstrated some improvements in scores and learning.\n",
    "\n",
    "\n",
    "### Batch Norm\n",
    "#### Current Implementation\n",
    "The current implementation does not include batch normalization. The distribution of each input layer is changing with each training sample and between each batch. This makes training and convergence hard. \n",
    " \n",
    "#### Further  improvement\n",
    "Ioffe and Szegedy[4] refer the ever changing distribution to as the covariate shift problem. They suggest to apply batch normalization in order to reduce the input variance of the distribution at each input. They claim that applying batch normalization helps to make the weight initialisation less criticial. In this case, it would eventually help to improve reproducibility and reduce dependability on the seed value. The batch normalization should be combined with the weight decaying.\n",
    " \n",
    " \n",
    "### References\n",
    "- [1] \"Deep Reinforcement Learning that Matters\", 2019, P.Henderson, et al.\n",
    "- [2] \"Self-improving reactive agents based on reinforcement learning, planning and teaching\", 1992, L.-J. Lin\n",
    "- [3] \"Let's Play Again: Variability of Deep Reinforcement Learning Agents in Atari Environments\", 2018, K.Clary, et al.\n",
    "- [4] \"Batch Normalization: Accelerating Deep Network Training by Reducing Internal Covariate Shift\", S.Ioffe and C.Szegedy\n",
    "- [5] \"Prioritized experience replay\", 2015, T. Schaul, J. Quan, I. Antonoglou, and D. Silver\n",
    "- [6] \"ANS: Adaptive Network Sacling for Deep Rectifier Reinforcement Learning Models\", 2018, Y.-H. Wu, et al.\n",
    "- [7] \"Weight Normalization: A Simple Reparameterization to Accelerate Training of Deep Neural Networks\", 2016, T.Salmans and D. P. Kingma \n",
    "- [8] \"Accelerated methods for Deep Reinforcement Learning\", 2019, A. Stooke and P. Abbeel\n",
    "- [9] \"Distributed Prioritized Experience Replay\", 2018, D.Horgan et al.\n",
    "- [10]\"Continuous Control with deep reinforcement learning\", 2019, T.P.Lilicrap et al."
   ]
  },
  {
   "cell_type": "code",
   "execution_count": null,
   "metadata": {},
   "outputs": [],
   "source": []
  }
 ],
 "metadata": {
  "kernelspec": {
   "display_name": "drlnd",
   "language": "python",
   "name": "drlnd"
  },
  "language_info": {
   "codemirror_mode": {
    "name": "ipython",
    "version": 3
   },
   "file_extension": ".py",
   "mimetype": "text/x-python",
   "name": "python",
   "nbconvert_exporter": "python",
   "pygments_lexer": "ipython3",
   "version": "3.6.10"
  }
 },
 "nbformat": 4,
 "nbformat_minor": 2
}
